{
 "cells": [
  {
   "cell_type": "code",
   "execution_count": 196,
   "metadata": {},
   "outputs": [],
   "source": [
    "import pandas as pd\n",
    "\n",
    "# Import of Data\n",
    "# Source: https://www.bmi.gv.at/412/Nationalratswahlen/Nationalratswahl_2019/\n",
    "# https://pandas.pydata.org/pandas-docs/stable/reference/api/pandas.read_csv.html\n",
    "df = pd.read_csv(\"NRW19.csv\", sep=';',thousands = '.', decimal = ',')\n",
    "# Amtliche Gemeindekennzahl (GKZ)"
   ]
  },
  {
   "cell_type": "code",
   "execution_count": 197,
   "metadata": {},
   "outputs": [
    {
     "data": {
      "text/html": [
       "<div>\n",
       "<style scoped>\n",
       "    .dataframe tbody tr th:only-of-type {\n",
       "        vertical-align: middle;\n",
       "    }\n",
       "\n",
       "    .dataframe tbody tr th {\n",
       "        vertical-align: top;\n",
       "    }\n",
       "\n",
       "    .dataframe thead th {\n",
       "        text-align: right;\n",
       "    }\n",
       "</style>\n",
       "<table border=\"1\" class=\"dataframe\">\n",
       "  <thead>\n",
       "    <tr style=\"text-align: right;\">\n",
       "      <th></th>\n",
       "      <th>GKZ</th>\n",
       "      <th>Gebietsname</th>\n",
       "      <th>Stimmen</th>\n",
       "      <th>ÖVP</th>\n",
       "      <th>SPÖ</th>\n",
       "      <th>FPÖ</th>\n",
       "      <th>NEOS</th>\n",
       "      <th>JETZT</th>\n",
       "      <th>GRÜNE</th>\n",
       "      <th>others</th>\n",
       "    </tr>\n",
       "  </thead>\n",
       "  <tbody>\n",
       "    <tr>\n",
       "      <th>8</th>\n",
       "      <td>G10101</td>\n",
       "      <td>Eisenstadt</td>\n",
       "      <td>7192</td>\n",
       "      <td>41.69</td>\n",
       "      <td>20.38</td>\n",
       "      <td>14.38</td>\n",
       "      <td>7.52</td>\n",
       "      <td>1.69</td>\n",
       "      <td>13.27</td>\n",
       "      <td>1.07</td>\n",
       "    </tr>\n",
       "    <tr>\n",
       "      <th>11</th>\n",
       "      <td>G10201</td>\n",
       "      <td>Rust</td>\n",
       "      <td>1055</td>\n",
       "      <td>34.23</td>\n",
       "      <td>30.38</td>\n",
       "      <td>20.15</td>\n",
       "      <td>5.01</td>\n",
       "      <td>1.16</td>\n",
       "      <td>7.91</td>\n",
       "      <td>1.16</td>\n",
       "    </tr>\n",
       "    <tr>\n",
       "      <th>14</th>\n",
       "      <td>G10301</td>\n",
       "      <td>Breitenbrunn am Neusiedler See</td>\n",
       "      <td>1137</td>\n",
       "      <td>33.87</td>\n",
       "      <td>29.82</td>\n",
       "      <td>13.42</td>\n",
       "      <td>6.94</td>\n",
       "      <td>3.42</td>\n",
       "      <td>11.89</td>\n",
       "      <td>0.63</td>\n",
       "    </tr>\n",
       "    <tr>\n",
       "      <th>15</th>\n",
       "      <td>G10302</td>\n",
       "      <td>Donnerskirchen</td>\n",
       "      <td>1076</td>\n",
       "      <td>44.38</td>\n",
       "      <td>22.85</td>\n",
       "      <td>18.89</td>\n",
       "      <td>5.67</td>\n",
       "      <td>1.23</td>\n",
       "      <td>6.33</td>\n",
       "      <td>0.66</td>\n",
       "    </tr>\n",
       "    <tr>\n",
       "      <th>...</th>\n",
       "      <td>...</td>\n",
       "      <td>...</td>\n",
       "      <td>...</td>\n",
       "      <td>...</td>\n",
       "      <td>...</td>\n",
       "      <td>...</td>\n",
       "      <td>...</td>\n",
       "      <td>...</td>\n",
       "      <td>...</td>\n",
       "      <td>...</td>\n",
       "    </tr>\n",
       "    <tr>\n",
       "      <th>2436</th>\n",
       "      <td>G92001</td>\n",
       "      <td>Brigittenau</td>\n",
       "      <td>22535</td>\n",
       "      <td>20.07</td>\n",
       "      <td>36.48</td>\n",
       "      <td>14.62</td>\n",
       "      <td>5.83</td>\n",
       "      <td>2.92</td>\n",
       "      <td>17.83</td>\n",
       "      <td>2.25</td>\n",
       "    </tr>\n",
       "    <tr>\n",
       "      <th>2439</th>\n",
       "      <td>G92101</td>\n",
       "      <td>Floridsdorf</td>\n",
       "      <td>56568</td>\n",
       "      <td>25.99</td>\n",
       "      <td>30.49</td>\n",
       "      <td>20.13</td>\n",
       "      <td>6.65</td>\n",
       "      <td>2.84</td>\n",
       "      <td>11.94</td>\n",
       "      <td>1.95</td>\n",
       "    </tr>\n",
       "    <tr>\n",
       "      <th>2442</th>\n",
       "      <td>G92201</td>\n",
       "      <td>Donaustadt</td>\n",
       "      <td>69291</td>\n",
       "      <td>25.83</td>\n",
       "      <td>29.42</td>\n",
       "      <td>18.26</td>\n",
       "      <td>7.78</td>\n",
       "      <td>2.96</td>\n",
       "      <td>13.79</td>\n",
       "      <td>1.97</td>\n",
       "    </tr>\n",
       "    <tr>\n",
       "      <th>2445</th>\n",
       "      <td>G92301</td>\n",
       "      <td>Liesing</td>\n",
       "      <td>41240</td>\n",
       "      <td>28.19</td>\n",
       "      <td>27.35</td>\n",
       "      <td>15.93</td>\n",
       "      <td>9.67</td>\n",
       "      <td>2.69</td>\n",
       "      <td>14.50</td>\n",
       "      <td>1.68</td>\n",
       "    </tr>\n",
       "  </tbody>\n",
       "</table>\n",
       "<p>2118 rows × 10 columns</p>\n",
       "</div>"
      ],
      "text/plain": [
       "         GKZ                     Gebietsname  Stimmen    ÖVP    SPÖ    FPÖ  \\\n",
       "8     G10101                      Eisenstadt     7192  41.69  20.38  14.38   \n",
       "11    G10201                            Rust     1055  34.23  30.38  20.15   \n",
       "14    G10301  Breitenbrunn am Neusiedler See     1137  33.87  29.82  13.42   \n",
       "15    G10302                  Donnerskirchen     1076  44.38  22.85  18.89   \n",
       "...      ...                             ...      ...    ...    ...    ...   \n",
       "2436  G92001                     Brigittenau    22535  20.07  36.48  14.62   \n",
       "2439  G92101                     Floridsdorf    56568  25.99  30.49  20.13   \n",
       "2442  G92201                      Donaustadt    69291  25.83  29.42  18.26   \n",
       "2445  G92301                         Liesing    41240  28.19  27.35  15.93   \n",
       "\n",
       "      NEOS  JETZT  GRÜNE  others  \n",
       "8     7.52   1.69  13.27    1.07  \n",
       "11    5.01   1.16   7.91    1.16  \n",
       "14    6.94   3.42  11.89    0.63  \n",
       "15    5.67   1.23   6.33    0.66  \n",
       "...    ...    ...    ...     ...  \n",
       "2436  5.83   2.92  17.83    2.25  \n",
       "2439  6.65   2.84  11.94    1.95  \n",
       "2442  7.78   2.96  13.79    1.97  \n",
       "2445  9.67   2.69  14.50    1.68  \n",
       "\n",
       "[2118 rows x 10 columns]"
      ]
     },
     "execution_count": 197,
     "metadata": {},
     "output_type": "execute_result"
    }
   ],
   "source": [
    "# Data Preparation\n",
    "df_reduced = df\n",
    "\n",
    "## Remove all \"Wahlkarten\"\n",
    "df_reduced = df_reduced[~df_reduced.GKZ.str.endswith('99')]\n",
    "## Remove all aggregated results\n",
    "df_reduced = df_reduced[~df_reduced.GKZ.str.endswith('00')]\n",
    "\n",
    "\n",
    "## we will only need the percentages and \"GKZ\", \"Gebietsname\", \"Stimmen\"\n",
    "import numpy\n",
    "party_names = df_reduced.columns[numpy.append(df_reduced.columns.str.startswith('%')[1:], [False])]\n",
    "percentages_names = df_reduced.columns[df_reduced.columns.str.startswith('%')]\n",
    "df_reduced = df_reduced.drop(party_names, axis=1)\n",
    "df_reduced.rename(columns=dict(zip(percentages_names, party_names)),inplace=True)\n",
    "df_reduced = df_reduced.drop(['Wahlbe-rechtigte', 'Ungültige', 'Gültige'], axis=1)\n",
    "# add a column with the respective name of the state\n",
    "\n",
    "## Aggregate (i.e., sum up) all the percentages of all small parties\n",
    "small_parties_name = ['KPÖ', 'WANDL', 'BZÖ', 'BIER', 'CPÖ', 'GILT', 'SLP']\n",
    "df_reduced['others'] = df_reduced[small_parties_name].sum(axis=1)\n",
    "df_reduced = df_reduced.drop(small_parties_name, axis=1)\n",
    "\n",
    "\n",
    "#pd.set_option('display.max_rows', 8)\n",
    "df_reduced"
   ]
  },
  {
   "cell_type": "code",
   "execution_count": 199,
   "metadata": {},
   "outputs": [],
   "source": [
    "# "
   ]
  },
  {
   "cell_type": "code",
   "execution_count": 202,
   "metadata": {},
   "outputs": [
    {
     "data": {
      "text/plain": [
       "8       1\n",
       "11      1\n",
       "14      1\n",
       "15      1\n",
       "       ..\n",
       "2436    9\n",
       "2439    9\n",
       "2442    9\n",
       "2445    9\n",
       "Name: GKZ, Length: 2118, dtype: object"
      ]
     },
     "execution_count": 202,
     "metadata": {},
     "output_type": "execute_result"
    }
   ],
   "source": []
  },
  {
   "cell_type": "code",
   "execution_count": 214,
   "metadata": {},
   "outputs": [],
   "source": [
    "def find_state (value_str):\n",
    "    value = int(value_str)\n",
    "   if value == 1:\n",
    "      return 'Burgenland'\n",
    "   if value == 2:\n",
    "      return 'Kärnten'\n",
    "   if value == 3:\n",
    "      return 'Niederösterreich'\n",
    "   if value == 4:\n",
    "      return 'Oberösterreich'\n",
    "   if value == 5:\n",
    "      return 'Salzburg'\n",
    "   if value == 6:\n",
    "      return 'Steiermark.'\n",
    "   if value == 7:\n",
    "      return 'Tirol'\n",
    "   if value == 8:\n",
    "      return 'Vorarlberg'\n",
    "   if value == 9:\n",
    "      return 'Wien'\n",
    "   return 'Other'"
   ]
  },
  {
   "cell_type": "code",
   "execution_count": 217,
   "metadata": {},
   "outputs": [
    {
     "ename": "TypeError",
     "evalue": "cannot convert the series to <class 'int'>",
     "output_type": "error",
     "traceback": [
      "\u001b[0;31m---------------------------------------------------------------------------\u001b[0m",
      "\u001b[0;31mTypeError\u001b[0m                                 Traceback (most recent call last)",
      "\u001b[0;32m<ipython-input-217-3c13e8faca6a>\u001b[0m in \u001b[0;36m<module>\u001b[0;34m\u001b[0m\n\u001b[0;32m----> 1\u001b[0;31m \u001b[0mdf_reduced\u001b[0m\u001b[0;34m[\u001b[0m\u001b[0;34m'state'\u001b[0m\u001b[0;34m]\u001b[0m \u001b[0;34m=\u001b[0m \u001b[0mint\u001b[0m\u001b[0;34m(\u001b[0m\u001b[0mdf_reduced\u001b[0m\u001b[0;34m.\u001b[0m\u001b[0mGKZ\u001b[0m\u001b[0;34m.\u001b[0m\u001b[0mstr\u001b[0m\u001b[0;34m[\u001b[0m\u001b[0;36m1\u001b[0m\u001b[0;34m]\u001b[0m\u001b[0;34m)\u001b[0m\u001b[0;34m.\u001b[0m\u001b[0mapply\u001b[0m\u001b[0;34m(\u001b[0m\u001b[0mfind_state\u001b[0m\u001b[0;34m)\u001b[0m\u001b[0;34m\u001b[0m\u001b[0;34m\u001b[0m\u001b[0m\n\u001b[0m\u001b[1;32m      2\u001b[0m \u001b[0;34m\u001b[0m\u001b[0m\n\u001b[1;32m      3\u001b[0m \u001b[0mdf_reduced\u001b[0m\u001b[0;34m.\u001b[0m\u001b[0mGKZ\u001b[0m\u001b[0;34m.\u001b[0m\u001b[0mstr\u001b[0m\u001b[0;34m[\u001b[0m\u001b[0;36m1\u001b[0m\u001b[0;34m]\u001b[0m\u001b[0;34m\u001b[0m\u001b[0;34m\u001b[0m\u001b[0m\n",
      "\u001b[0;32m/opt/anaconda3/lib/python3.7/site-packages/pandas/core/series.py\u001b[0m in \u001b[0;36mwrapper\u001b[0;34m(self)\u001b[0m\n\u001b[1;32m    110\u001b[0m         \u001b[0;32mif\u001b[0m \u001b[0mlen\u001b[0m\u001b[0;34m(\u001b[0m\u001b[0mself\u001b[0m\u001b[0;34m)\u001b[0m \u001b[0;34m==\u001b[0m \u001b[0;36m1\u001b[0m\u001b[0;34m:\u001b[0m\u001b[0;34m\u001b[0m\u001b[0;34m\u001b[0m\u001b[0m\n\u001b[1;32m    111\u001b[0m             \u001b[0;32mreturn\u001b[0m \u001b[0mconverter\u001b[0m\u001b[0;34m(\u001b[0m\u001b[0mself\u001b[0m\u001b[0;34m.\u001b[0m\u001b[0miloc\u001b[0m\u001b[0;34m[\u001b[0m\u001b[0;36m0\u001b[0m\u001b[0;34m]\u001b[0m\u001b[0;34m)\u001b[0m\u001b[0;34m\u001b[0m\u001b[0;34m\u001b[0m\u001b[0m\n\u001b[0;32m--> 112\u001b[0;31m         \u001b[0;32mraise\u001b[0m \u001b[0mTypeError\u001b[0m\u001b[0;34m(\u001b[0m\u001b[0;34mf\"cannot convert the series to {converter}\"\u001b[0m\u001b[0;34m)\u001b[0m\u001b[0;34m\u001b[0m\u001b[0;34m\u001b[0m\u001b[0m\n\u001b[0m\u001b[1;32m    113\u001b[0m \u001b[0;34m\u001b[0m\u001b[0m\n\u001b[1;32m    114\u001b[0m     \u001b[0mwrapper\u001b[0m\u001b[0;34m.\u001b[0m\u001b[0m__name__\u001b[0m \u001b[0;34m=\u001b[0m \u001b[0;34mf\"__{converter.__name__}__\"\u001b[0m\u001b[0;34m\u001b[0m\u001b[0;34m\u001b[0m\u001b[0m\n",
      "\u001b[0;31mTypeError\u001b[0m: cannot convert the series to <class 'int'>"
     ]
    }
   ],
   "source": [
    "df_reduced['state'] = df_reduced.GKZ.str[1].apply(find_state)\n",
    "\n",
    "df_reduced.GKZ.str[1]"
   ]
  },
  {
   "cell_type": "code",
   "execution_count": 216,
   "metadata": {},
   "outputs": [
    {
     "data": {
      "text/plain": [
       "8       Burgenland\n",
       "11      Burgenland\n",
       "14      Burgenland\n",
       "15      Burgenland\n",
       "           ...    \n",
       "2436         Other\n",
       "2439         Other\n",
       "2442         Other\n",
       "2445         Other\n",
       "Name: state, Length: 2118, dtype: object"
      ]
     },
     "execution_count": 216,
     "metadata": {},
     "output_type": "execute_result"
    }
   ],
   "source": [
    "df_reduced['state']"
   ]
  },
  {
   "cell_type": "code",
   "execution_count": 213,
   "metadata": {},
   "outputs": [
    {
     "data": {
      "text/plain": [
       "8       1\n",
       "11      1\n",
       "14      1\n",
       "15      1\n",
       "       ..\n",
       "2436    9\n",
       "2439    9\n",
       "2442    9\n",
       "2445    9\n",
       "Name: GKZ, Length: 2118, dtype: object"
      ]
     },
     "execution_count": 213,
     "metadata": {},
     "output_type": "execute_result"
    }
   ],
   "source": [
    "x = df_reduced.GKZ.str[1]\n",
    "x"
   ]
  },
  {
   "cell_type": "code",
   "execution_count": null,
   "metadata": {},
   "outputs": [],
   "source": []
  }
 ],
 "metadata": {
  "kernelspec": {
   "display_name": "Python 3",
   "language": "python",
   "name": "python3"
  },
  "language_info": {
   "codemirror_mode": {
    "name": "ipython",
    "version": 3
   },
   "file_extension": ".py",
   "mimetype": "text/x-python",
   "name": "python",
   "nbconvert_exporter": "python",
   "pygments_lexer": "ipython3",
   "version": "3.7.6"
  }
 },
 "nbformat": 4,
 "nbformat_minor": 4
}
